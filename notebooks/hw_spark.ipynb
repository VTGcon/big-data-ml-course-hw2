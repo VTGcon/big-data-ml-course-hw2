{
 "cells": [
  {
   "cell_type": "markdown",
   "id": "65d7a84c-81d9-4305-a2e7-51456bd4eb62",
   "metadata": {},
   "source": [
    "block 1"
   ]
  },
  {
   "cell_type": "code",
   "execution_count": 1,
   "id": "4f9f9460-d66e-405d-ba4b-87e21ef9b4c0",
   "metadata": {},
   "outputs": [
    {
     "name": "stdout",
     "output_type": "stream",
     "text": [
      "Requirement already satisfied: pyspark in /usr/local/lib/python3.10/dist-packages (3.5.0)\n",
      "Requirement already satisfied: py4j==0.10.9.7 in /usr/local/lib/python3.10/dist-packages (from pyspark) (0.10.9.7)\n",
      "\u001b[33mWARNING: Running pip as the 'root' user can result in broken permissions and conflicting behaviour with the system package manager. It is recommended to use a virtual environment instead: https://pip.pypa.io/warnings/venv\u001b[0m\u001b[33m\n",
      "\u001b[0m"
     ]
    }
   ],
   "source": [
    "!pip install pyspark"
   ]
  },
  {
   "cell_type": "code",
   "execution_count": 2,
   "id": "0b7b087f-a77b-4d35-aaf6-8ce9691ab085",
   "metadata": {},
   "outputs": [],
   "source": [
    "import numpy as np\n",
    "import pyspark\n",
    "from pyspark.sql.types import *\n",
    "from pyspark.sql import SparkSession\n",
    "from pyspark import SparkContext, SparkConf\n"
   ]
  },
  {
   "cell_type": "code",
   "execution_count": 3,
   "id": "ea61f67f-16d2-45c7-bcd7-98169cc7386f",
   "metadata": {},
   "outputs": [
    {
     "name": "stdout",
     "output_type": "stream",
     "text": [
      "2023-12-19 20:06:28 WARN  NativeCodeLoader:60 - Unable to load native-hadoop library for your platform... using builtin-java classes where applicable\n",
      "Safe mode is OFF\n"
     ]
    }
   ],
   "source": [
    "!hdfs dfsadmin -safemode leave\n"
   ]
  },
  {
   "cell_type": "code",
   "execution_count": 4,
   "id": "cbfe1b49-bb0d-4021-b8a7-ff6a3188c05d",
   "metadata": {},
   "outputs": [
    {
     "name": "stderr",
     "output_type": "stream",
     "text": [
      "Setting default log level to \"WARN\".\n",
      "To adjust logging level use sc.setLogLevel(newLevel). For SparkR, use setLogLevel(newLevel).\n",
      "23/12/19 20:06:32 WARN NativeCodeLoader: Unable to load native-hadoop library for your platform... using builtin-java classes where applicable\n",
      "23/12/19 20:06:34 WARN Client: Neither spark.yarn.jars nor spark.yarn.archive is set, falling back to uploading libraries under SPARK_HOME.\n"
     ]
    }
   ],
   "source": [
    "conf = SparkConf().set(\"spark.executor.instances\", \"2\").set(\"spark.executor.cores\", \"1\").set(\"spark.executor.memory\", \"1g\")\n",
    "spark = SparkSession.builder.master(\"yarn\").appName(\"shabes_spark\").config(conf=conf).getOrCreate()"
   ]
  },
  {
   "cell_type": "code",
   "execution_count": 5,
   "id": "f0515d81-0276-4f7c-96a4-a328ef6ab349",
   "metadata": {},
   "outputs": [
    {
     "data": {
      "text/html": [
       "\n",
       "            <div>\n",
       "                <p><b>SparkSession - in-memory</b></p>\n",
       "                \n",
       "        <div>\n",
       "            <p><b>SparkContext</b></p>\n",
       "\n",
       "            <p><a href=\"http://57f805d3743a:4040\">Spark UI</a></p>\n",
       "\n",
       "            <dl>\n",
       "              <dt>Version</dt>\n",
       "                <dd><code>v3.5.0</code></dd>\n",
       "              <dt>Master</dt>\n",
       "                <dd><code>yarn</code></dd>\n",
       "              <dt>AppName</dt>\n",
       "                <dd><code>shabes_spark</code></dd>\n",
       "            </dl>\n",
       "        </div>\n",
       "        \n",
       "            </div>\n",
       "        "
      ],
      "text/plain": [
       "<pyspark.sql.session.SparkSession at 0xffff5cd2ad10>"
      ]
     },
     "execution_count": 5,
     "metadata": {},
     "output_type": "execute_result"
    }
   ],
   "source": [
    "spark"
   ]
  },
  {
   "cell_type": "code",
   "execution_count": 12,
   "id": "280a0a89-f12e-4565-af31-c7f09e331582",
   "metadata": {},
   "outputs": [
    {
     "name": "stdout",
     "output_type": "stream",
     "text": [
      "2023-12-19 18:59:02 WARN  NativeCodeLoader:60 - Unable to load native-hadoop library for your platform... using builtin-java classes where applicable\n"
     ]
    }
   ],
   "source": [
    "!hdfs dfs -put ml-latest-small .\n"
   ]
  },
  {
   "cell_type": "code",
   "execution_count": 13,
   "id": "751d18dc-278f-4617-bb95-a928a532b6e6",
   "metadata": {},
   "outputs": [
    {
     "name": "stdout",
     "output_type": "stream",
     "text": [
      "2023-12-19 18:59:14 WARN  NativeCodeLoader:60 - Unable to load native-hadoop library for your platform... using builtin-java classes where applicable\n",
      "Found 7 items\n",
      "drwxr-xr-x   - root supergroup          0 2023-12-19 18:52 .sparkStaging\n",
      "drwxr-xr-x   - root supergroup          0 2023-12-06 06:40 Hadoop_Result_EpisodeAll.txt\n",
      "drwxr-xr-x   - root supergroup          0 2023-12-06 06:31 Hadoop_Result_SW_EpisodeIV.txt\n",
      "drwxr-xr-x   - root supergroup          0 2023-12-06 06:32 Hadoop_Result_SW_EpisodeV.txt\n",
      "drwxr-xr-x   - root supergroup          0 2023-12-06 06:33 Hadoop_Result_SW_EpisodeVI.txt\n",
      "drwxr-xr-x   - root supergroup          0 2023-12-19 18:59 ml-latest-small\n",
      "drwxr-xr-x   - root supergroup          0 2023-12-06 06:28 tmp\n"
     ]
    }
   ],
   "source": [
    "!hdfs dfs -ls ."
   ]
  },
  {
   "cell_type": "code",
   "execution_count": 13,
   "id": "01ab3afb-21f0-4741-ae68-22ad54019a8e",
   "metadata": {},
   "outputs": [],
   "source": [
    "ratings_schema = StructType(fields=[\n",
    "    StructField(\"userId\", IntegerType()),\n",
    "    StructField(\"movieId\", IntegerType()),\n",
    "    StructField(\"rating\", DoubleType()),\n",
    "    StructField(\"timestamp\", LongType()),\n",
    "])\n",
    "\n",
    "tags_schema = StructType(fields=[\n",
    "    StructField(\"userId\", IntegerType()),\n",
    "    StructField(\"movieId\", IntegerType()),\n",
    "    StructField(\"tag\", StringType()),\n",
    "    StructField(\"timestamp\", LongType()),\n",
    "])"
   ]
  },
  {
   "cell_type": "code",
   "execution_count": 14,
   "id": "96fe6575-d583-4ed5-9e5c-d4575686a69f",
   "metadata": {},
   "outputs": [],
   "source": [
    "ratings = spark.read.format(\"csv\").option(\"header\", \"True\").schema(ratings_schema).load(\"ml-latest-small/ratings.csv\")\n",
    "tags = spark.read.format(\"csv\").option(\"header\", \"True\").schema(tags_schema).load(\"ml-latest-small/tags.csv\")"
   ]
  },
  {
   "cell_type": "code",
   "execution_count": 15,
   "id": "6079d56a-5f02-44c9-a23c-9fc2f3408e9e",
   "metadata": {},
   "outputs": [
    {
     "data": {
      "text/plain": [
       "100836"
      ]
     },
     "metadata": {},
     "output_type": "display_data"
    },
    {
     "data": {
      "text/plain": [
       "3683"
      ]
     },
     "metadata": {},
     "output_type": "display_data"
    }
   ],
   "source": [
    "display(ratings.count())\n",
    "display(tags.count())"
   ]
  },
  {
   "cell_type": "markdown",
   "id": "5e79702a-cf85-4f7b-ad4e-2a71515e458d",
   "metadata": {},
   "source": [
    "block 2"
   ]
  },
  {
   "cell_type": "markdown",
   "id": "cbf71cae-89b8-45bb-9685-072aab5b16a3",
   "metadata": {},
   "source": [
    "task 1"
   ]
  },
  {
   "cell_type": "code",
   "execution_count": 16,
   "id": "10f5a783-5df0-4f82-9fbc-fb032f33e60a",
   "metadata": {},
   "outputs": [
    {
     "name": "stderr",
     "output_type": "stream",
     "text": [
      "                                                                                \r"
     ]
    },
    {
     "name": "stdout",
     "output_type": "stream",
     "text": [
      "9724  unique films\n",
      "610  unique users\n"
     ]
    }
   ],
   "source": [
    "print(ratings.groupby(\"movieId\").count().count(), ' unique films')\n",
    "print(ratings.groupby(\"userId\").count().count(), ' unique users')"
   ]
  },
  {
   "cell_type": "markdown",
   "id": "25861263-3dab-4456-91f4-1bff6f433821",
   "metadata": {},
   "source": [
    "task 2"
   ]
  },
  {
   "cell_type": "code",
   "execution_count": 17,
   "id": "23faef8b-2af0-491b-92f6-8f381f4705d7",
   "metadata": {},
   "outputs": [],
   "source": [
    "import pyspark.sql.functions as functions"
   ]
  },
  {
   "cell_type": "code",
   "execution_count": 19,
   "id": "3691563b-34c3-46ac-bd68-4464f92ad9e4",
   "metadata": {},
   "outputs": [
    {
     "name": "stdout",
     "output_type": "stream",
     "text": [
      "48580  films with more than 4.0 rating\n"
     ]
    },
    {
     "name": "stderr",
     "output_type": "stream",
     "text": [
      "                                                                                \r"
     ]
    }
   ],
   "source": [
    "print(ratings.filter(functions.col(\"rating\") >= 4.0).count(), ' films with more than 4.0 rating')"
   ]
  },
  {
   "cell_type": "markdown",
   "id": "00faca18-41c4-4945-a49d-5c6b6f3559f6",
   "metadata": {},
   "source": [
    "task 3"
   ]
  },
  {
   "cell_type": "code",
   "execution_count": 41,
   "id": "1212f782-7de2-4399-99dc-e38fc1c09b57",
   "metadata": {},
   "outputs": [
    {
     "name": "stdout",
     "output_type": "stream",
     "text": [
      "Top 100 films\n"
     ]
    },
    {
     "name": "stderr",
     "output_type": "stream",
     "text": [
      "[Stage 80:>                                                         (0 + 1) / 1]\r"
     ]
    },
    {
     "name": "stdout",
     "output_type": "stream",
     "text": [
      "+-------+-----------+\n",
      "|movieId|avg(rating)|\n",
      "+-------+-----------+\n",
      "|  80124|        5.0|\n",
      "|  74226|        5.0|\n",
      "| 175387|        5.0|\n",
      "|    148|        5.0|\n",
      "| 158027|        5.0|\n",
      "|  67618|        5.0|\n",
      "|  42556|        5.0|\n",
      "| 142444|        5.0|\n",
      "|  44943|        5.0|\n",
      "|  27523|        5.0|\n",
      "| 113829|        5.0|\n",
      "|   3073|        5.0|\n",
      "| 152711|        5.0|\n",
      "| 132333|        5.0|\n",
      "|     53|        5.0|\n",
      "|  27704|        5.0|\n",
      "| 147300|        5.0|\n",
      "| 187717|        5.0|\n",
      "|    633|        5.0|\n",
      "|   8238|        5.0|\n",
      "|    876|        5.0|\n",
      "| 120138|        5.0|\n",
      "|  53578|        5.0|\n",
      "| 163072|        5.0|\n",
      "| 160644|        5.0|\n",
      "| 172909|        5.0|\n",
      "|   5490|        5.0|\n",
      "| 172583|        5.0|\n",
      "|   2972|        5.0|\n",
      "|   2196|        5.0|\n",
      "|  25887|        5.0|\n",
      "| 118834|        5.0|\n",
      "|   3795|        5.0|\n",
      "| 156025|        5.0|\n",
      "|   3941|        5.0|\n",
      "| 120130|        5.0|\n",
      "|    626|        5.0|\n",
      "|   1349|        5.0|\n",
      "|  26928|        5.0|\n",
      "| 122092|        5.0|\n",
      "|  40491|        5.0|\n",
      "|  71268|        5.0|\n",
      "| 167064|        5.0|\n",
      "|  99636|        5.0|\n",
      "|  25906|        5.0|\n",
      "|   6086|        5.0|\n",
      "| 141928|        5.0|\n",
      "|  47736|        5.0|\n",
      "|   6201|        5.0|\n",
      "| 164367|        5.0|\n",
      "|   3792|        5.0|\n",
      "| 172589|        5.0|\n",
      "| 146684|        5.0|\n",
      "|   3473|        5.0|\n",
      "| 172793|        5.0|\n",
      "|  50999|        5.0|\n",
      "| 136469|        5.0|\n",
      "| 141718|        5.0|\n",
      "| 124851|        5.0|\n",
      "|  85295|        5.0|\n",
      "|   4788|        5.0|\n",
      "| 173619|        5.0|\n",
      "|   6835|        5.0|\n",
      "|   2824|        5.0|\n",
      "|    496|        5.0|\n",
      "|  26147|        5.0|\n",
      "| 157775|        5.0|\n",
      "|   4454|        5.0|\n",
      "|  44851|        5.0|\n",
      "| 104780|        5.0|\n",
      "| 149566|        5.0|\n",
      "|   7096|        5.0|\n",
      "| 109241|        5.0|\n",
      "| 131724|        5.0|\n",
      "|   3567|        5.0|\n",
      "|  69211|        5.0|\n",
      "| 136834|        5.0|\n",
      "| 163925|        5.0|\n",
      "|   3940|        5.0|\n",
      "| 173355|        5.0|\n",
      "|  91386|        5.0|\n",
      "|   7815|        5.0|\n",
      "|   5513|        5.0|\n",
      "| 115727|        5.0|\n",
      "|  84273|        5.0|\n",
      "| 172705|        5.0|\n",
      "|  27373|        5.0|\n",
      "| 109633|        5.0|\n",
      "| 114265|        5.0|\n",
      "| 172875|        5.0|\n",
      "| 163112|        5.0|\n",
      "| 159811|        5.0|\n",
      "|  94810|        5.0|\n",
      "| 147286|        5.0|\n",
      "|  53355|        5.0|\n",
      "|   7122|        5.0|\n",
      "|  69860|        5.0|\n",
      "|  79897|        5.0|\n",
      "|  83969|        5.0|\n",
      "|  95311|        5.0|\n",
      "+-------+-----------+\n",
      "only showing top 100 rows\n",
      "\n"
     ]
    },
    {
     "name": "stderr",
     "output_type": "stream",
     "text": [
      "                                                                                \r"
     ]
    }
   ],
   "source": [
    "print('Top 100 films')\n",
    "ratings.drop('userId', 'timestamp').groupBy('movieId').agg({\"rating\": \"avg\"}).orderBy('avg(rating)', ascending=False).show(100)\n",
    "\n",
    "\n"
   ]
  },
  {
   "cell_type": "markdown",
   "id": "35f73014-a553-45be-9b75-27c8f75c1b22",
   "metadata": {},
   "source": [
    "task 4"
   ]
  },
  {
   "cell_type": "code",
   "execution_count": 30,
   "id": "796b616f-1fa8-4fbe-a5d6-d4ac9b813e23",
   "metadata": {},
   "outputs": [
    {
     "data": {
      "text/plain": [
       "Row(avg(delta)=26243727.372266974)"
      ]
     },
     "metadata": {},
     "output_type": "display_data"
    }
   ],
   "source": [
    "ratings_and_tags = ratings.alias(\"rating\").join(tags.alias(\"tag\"), on=[\"userId\", \"movieId\"], how=\"inner\")\n",
    "delta = ratings_and_tags.select((functions.col(\"tag.timestamp\") - functions.col(\"rating.timestamp\")).alias(\"delta\"))\n",
    "display(delta.select(functions.avg(functions.col(\"delta\"))).collect()[0])"
   ]
  },
  {
   "cell_type": "markdown",
   "id": "9564fc95-d61d-43d2-bfa2-d5ca8a741416",
   "metadata": {},
   "source": [
    "task 5"
   ]
  },
  {
   "cell_type": "code",
   "execution_count": 44,
   "id": "cd63fde8-982f-4f34-98f4-e76ff41989a6",
   "metadata": {},
   "outputs": [
    {
     "name": "stdout",
     "output_type": "stream",
     "text": [
      "Average of average grades\n"
     ]
    },
    {
     "name": "stderr",
     "output_type": "stream",
     "text": [
      "                                                                                \r"
     ]
    },
    {
     "data": {
      "text/plain": [
       "Row(avg(avg(rating))=3.6572223377474016)"
      ]
     },
     "metadata": {},
     "output_type": "display_data"
    }
   ],
   "source": [
    "print('Average of average grades')\n",
    "average_ratings_by_user = ratings.drop('movieId', 'timestamp').groupBy('userId').agg({\"rating\": \"avg\"}).orderBy('avg(rating)', ascending=False)\n",
    "display(average_ratings_by_user.select(functions.avg(functions.col(\"avg(rating)\"))).collect()[0])"
   ]
  },
  {
   "cell_type": "code",
   "execution_count": null,
   "id": "fdf0e2cd-6174-45c3-b4cd-ac3352caf6e4",
   "metadata": {},
   "outputs": [],
   "source": []
  }
 ],
 "metadata": {
  "kernelspec": {
   "display_name": "Python 3 (ipykernel)",
   "language": "python",
   "name": "python3"
  },
  "language_info": {
   "codemirror_mode": {
    "name": "ipython",
    "version": 3
   },
   "file_extension": ".py",
   "mimetype": "text/x-python",
   "name": "python",
   "nbconvert_exporter": "python",
   "pygments_lexer": "ipython3",
   "version": "3.10.12"
  }
 },
 "nbformat": 4,
 "nbformat_minor": 5
}
